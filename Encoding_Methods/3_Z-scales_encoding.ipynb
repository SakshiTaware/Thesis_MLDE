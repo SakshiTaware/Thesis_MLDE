{
 "cells": [
  {
   "cell_type": "markdown",
   "id": "e7004755",
   "metadata": {},
   "source": [
    "## Z-scales encoding\n",
    "\n",
    "Z-scales is a **physiochemical property desciptor**. It's a five-dimensional vector descriptor developed by Hellberg et al. (1987) who extracted a set of upto 26 descriptors and condensed them using PCA to pick the z-scales that correspond to hydrophobicity, steric bulk, electronic properties.<p>\n",
    "\n",
    "Reference: Hellberg S, Sjöström M, Skagerberg B, Wold S. Peptide quantitative structure-activity relationships, a multivariate approach. J Med Chem. 1987 Jul;30(7):1126-35. doi: 10.1021/jm00390a003. PMID: 3599020."
   ]
  },
  {
   "cell_type": "code",
   "execution_count": null,
   "id": "e442d889",
   "metadata": {},
   "outputs": [],
   "source": [
    "# Import dependencies\n",
    "import numpy as np\n",
    "import pandas as pd\n",
    "from numpy import array"
   ]
  },
  {
   "cell_type": "code",
   "execution_count": null,
   "id": "a098f853",
   "metadata": {},
   "outputs": [],
   "source": [
    "# Define Z-Scale values for 20 standard amino acids (Hellberg et al., 1987)\n",
    "Z_SCALES = {\n",
    "    \"A\": [0.07, -1.73, 0.16, 0.18, -0.11],\n",
    "    \"C\": [1.26, -1.57, 0.38, -0.43, -0.21],\n",
    "    \"D\": [-0.89, 1.34, -0.30, 0.61, -0.21],\n",
    "    \"E\": [-1.68, 1.94, -0.27, 0.37, -0.23],\n",
    "    \"F\": [1.52, -1.14, 0.44, -0.99, 1.14],\n",
    "    \"G\": [-0.16, -2.46, -0.03, 0.23, 0.15],\n",
    "    \"H\": [0.49, 0.88, -0.12, 0.27, 0.23],\n",
    "    \"I\": [1.41, -0.84, 0.47, -1.10, 0.31],\n",
    "    \"K\": [-1.50, 2.05, 0.30, 1.14, -0.21],\n",
    "    \"L\": [1.14, -0.75, 0.40, -1.12, 0.26],\n",
    "    \"M\": [0.65, -0.49, 1.30, -0.76, 0.41],\n",
    "    \"N\": [-0.75, 1.98, -0.09, 0.14, -0.21],\n",
    "    \"P\": [-0.46, 0.27, 0.25, -0.20, 0.14],\n",
    "    \"Q\": [-0.73, 1.84, -0.15, 0.11, -0.21],\n",
    "    \"R\": [-1.95, 2.44, 0.28, 1.53, -0.21],\n",
    "    \"S\": [-0.26, 0.06, -0.11, 0.06, 0.06],\n",
    "    \"T\": [-0.30, -0.40, -0.04, -0.32, 0.17],\n",
    "    \"V\": [1.13, -0.67, 0.50, -1.09, 0.30],\n",
    "    \"W\": [1.85, 0.30, 0.79, -0.71, 2.55],\n",
    "    \"Y\": [0.94, 0.65, 0.15, -0.41, 1.61]\n",
    "}"
   ]
  },
  {
   "cell_type": "code",
   "execution_count": null,
   "id": "01f5af9b",
   "metadata": {},
   "outputs": [],
   "source": [
    "# Define function for Z-scales encoding\n",
    "\n",
    "def encode_sequence_zscale(sequence, zscale_dict):\n",
    "    \"\"\"\n",
    "    Convert a protein sequence into a numerical matrix using Z-Scale encoding.\n",
    "    \n",
    "    Parameters:\n",
    "        sequence (str): Protein sequence.\n",
    "        zscale_dict (dict): Mapping of amino acids to Z-Scale values.\n",
    "\n",
    "    Returns:\n",
    "        np.array: Encoded sequence (Length × 5 features)\n",
    "    \"\"\"\n",
    "    encoding = [zscale_dict.get(aa, [0, 0, 0, 0, 0]) for aa in sequence]  # Use [0,0,0,0,0] for unknown AA\n",
    "    return np.array(encoding)\n"
   ]
  },
  {
   "cell_type": "code",
   "execution_count": null,
   "id": "a9eff3c6",
   "metadata": {},
   "outputs": [],
   "source": [
    "# Load dataset (with 'sequence' column)\n",
    "protein_sequences_file = 'Example_Data_Swapped_50_55.csv'  # CSV file path\n",
    "df = pd.read_csv(protein_sequences_file)\n",
    "\n",
    "#sequences = df['Sequence'].tolist()\n",
    "\n",
    "# Apply Z-Scale encoding to all sequences\n",
    "df[\"encoded_sequence\"] = df[\"sequence\"].apply(lambda seq: encode_sequence_zscale(seq, Z_SCALES).tolist())\n",
    "\n",
    "# Convert each sequence into a flattened numerical array\n",
    "df[\"flattened_sequence\"] = df[\"encoded_sequence\"].apply(lambda x: np.array(x).flatten())"
   ]
  },
  {
   "cell_type": "code",
   "execution_count": null,
   "id": "8a3071b3",
   "metadata": {},
   "outputs": [],
   "source": [
    "# Save encoded data to the same file\n",
    "df.to_csv(\"Example_Data_zscales_encoded.csv\", index=False)"
   ]
  }
 ],
 "metadata": {
  "kernelspec": {
   "display_name": "Python 3 (ipykernel)",
   "language": "python",
   "name": "python3"
  },
  "language_info": {
   "codemirror_mode": {
    "name": "ipython",
    "version": 3
   },
   "file_extension": ".py",
   "mimetype": "text/x-python",
   "name": "python",
   "nbconvert_exporter": "python",
   "pygments_lexer": "ipython3",
   "version": "3.9.13"
  }
 },
 "nbformat": 4,
 "nbformat_minor": 5
}
