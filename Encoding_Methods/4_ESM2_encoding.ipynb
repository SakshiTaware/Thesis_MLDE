{
 "cells": [
  {
   "cell_type": "markdown",
   "id": "1c9a346f",
   "metadata": {},
   "source": [
    "## ESM2 encoding\n",
    "\n",
    "ESM2 (Evolutionary Scale Model) is a **pre-trained model** by META, which captures evolutionary and structural context. The ESM2 transformer model used was `esm2_t33_650M_UR50D` \n",
    "\n",
    "Reference: Lin Z, Akin H, Rao R, Hie B, Zhu Z, Lu W, et al. Evolutionary-scale prediction of atomic level protein structure with a language model. bioRxiv (Cold Spring Harbor Laboratory). 2022 Jul 21; Available from:https://doi.org/10.1101/2022.07.20.500902\n",
    "\n",
    "Documentation can be found at: https://huggingface.co/docs/transformers/en/model_doc/esm and https://github.com/facebookresearch/esm/tree/main\n"
   ]
  },
  {
   "cell_type": "code",
   "execution_count": null,
   "id": "870ce266",
   "metadata": {},
   "outputs": [],
   "source": [
    "import pandas as pd\n",
    "import numpy as np\n",
    "import torch\n",
    "\n",
    "# Import model using PyTorch\n",
    "model, alphabet = torch.hub.load(\"facebookresearch/esm:main\", \"esm2_t33_650M_UR50D\") #choose model"
   ]
  },
  {
   "cell_type": "code",
   "execution_count": null,
   "id": "a7a2dcc8",
   "metadata": {},
   "outputs": [],
   "source": [
    "'''\n",
    "# might not work as \"esm\" module isn't available \n",
    "import esm \n",
    "\n",
    "# Load the ESM2 model ()\n",
    "model, alphabet = esm.pretrained.esm2_t33_650M_UR50D() #choose model\n",
    "batch_converter = alphabet.get_batch_converter()\n",
    "model.eval()\n",
    "'''"
   ]
  },
  {
   "cell_type": "code",
   "execution_count": null,
   "id": "74efd2a9",
   "metadata": {},
   "outputs": [],
   "source": [
    "# Load dataset (with 'sequence' column)\n",
    "protein_sequences_file = 'Example_Data.csv'  # CSV file path\n",
    "df = pd.read_csv(protein_sequences_file)\n",
    "\n",
    "# Prepare a list of tuples with sequence IDs and sequences\n",
    "sequences = [(f\"seq_{i}\", seq) for i, seq in enumerate(df['sequence'])]\n",
    "attention_maps = {}"
   ]
  },
  {
   "cell_type": "code",
   "execution_count": null,
   "id": "7ebe05d3",
   "metadata": {},
   "outputs": [],
   "source": [
    "# Generate embeddings for each sequence\n",
    "\n",
    "embeddings = []\n",
    "for i in range(0, len(sequences), 10):  # Batch processing with a batch size of 32\n",
    "    batch_data = sequences[i:i+10]\n",
    "    batch_labels, batch_strs, batch_tokens = batch_converter(batch_data)\n",
    "    \n",
    "    with torch.no_grad():\n",
    "        results = model(batch_tokens, repr_layers=[33], return_contacts=True)\n",
    "    \n",
    "    # Extract the mean of the embeddings across the sequence length\n",
    "    for label, embedding in zip(batch_labels, results[\"representations\"][33]):\n",
    "        mean_embedding = embedding.mean(0).numpy()\n",
    "        embeddings.append(mean_embedding)\n",
    "    \n",
    "    for (label, seq), tokens_len, attention_contacts in zip(batch_data, batch_tokens.ne(1).sum(1), results[\"contacts\"]):\n",
    "        attention_maps[label] = (seq, attention_contacts[:tokens_len, :tokens_len].cpu().numpy())"
   ]
  },
  {
   "cell_type": "code",
   "execution_count": null,
   "id": "7434abae",
   "metadata": {},
   "outputs": [],
   "source": [
    "# Create a new dataframe to store embeddings\n",
    "embedding_df = pd.DataFrame(embeddings)\n",
    "#embedding_df['Sequence'] = df['sequence'] # to save sequences in the esm2 encoded dataset\n",
    "#embedding_df['Fitness'] = df['fitness'] # to save fitness in the esm2 encoded dataset\n",
    "\n",
    "# Save the esm2 embeddings as a csv file\n",
    "embedding_df.to_csv('esm2_encoded.csv', index=False)"
   ]
  }
 ],
 "metadata": {
  "kernelspec": {
   "display_name": "Python 3 (ipykernel)",
   "language": "python",
   "name": "python3"
  },
  "language_info": {
   "codemirror_mode": {
    "name": "ipython",
    "version": 3
   },
   "file_extension": ".py",
   "mimetype": "text/x-python",
   "name": "python",
   "nbconvert_exporter": "python",
   "pygments_lexer": "ipython3",
   "version": "3.9.13"
  }
 },
 "nbformat": 4,
 "nbformat_minor": 5
}
