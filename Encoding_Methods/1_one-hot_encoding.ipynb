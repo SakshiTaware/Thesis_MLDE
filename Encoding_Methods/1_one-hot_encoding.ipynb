{
 "cells": [
  {
   "cell_type": "markdown",
   "id": "5ee9ca4e",
   "metadata": {},
   "source": [
    "# One-hot encoding "
   ]
  },
  {
   "cell_type": "markdown",
   "id": "09cf291b",
   "metadata": {},
   "source": [
    "It is a **binary representation** (1 or 0) of amino acids. The protein sequence is transformed into an L × 20 binary matrix (for a sequence of length L, assuming 20 standard amino acids).<p>\n",
    "Data can be one-hot encoded using scikit-learn's module **OneHotEncoder** <br>\n",
    "The documentation can be found here: [sklearn.preprocessing.OneHotEncoder](https://scikit-learn.org/stable/modules/generated/sklearn.preprocessing.OneHotEncoder.html) "
   ]
  },
  {
   "cell_type": "code",
   "execution_count": null,
   "id": "1fa5c476",
   "metadata": {},
   "outputs": [],
   "source": [
    "# Import dependencies \n",
    "\n",
    "import pandas as pd\n",
    "import numpy as np\n",
    "import sklearn\n",
    "from sklearn.preprocessing import OneHotEncoder\n",
    "from numpy import array"
   ]
  },
  {
   "cell_type": "code",
   "execution_count": null,
   "id": "5c02aabe",
   "metadata": {},
   "outputs": [],
   "source": [
    "# Define the 20 standard amino acids\n",
    "AMINO_ACIDS = np.array(list(\"ACDEFGHIKLMNPQRSTVWY\")).reshape(-1, 1)\n",
    "\n",
    "# Initialize OneHotEncoder \n",
    "encoder = OneHotEncoder(sparse_output=False, handle_unknown='ignore')\n",
    "encoder.fit(AMINO_ACIDS)  # Fit only on valid amino acids\n",
    "\n",
    "\n",
    "def one_hot_encode_sequence(sequence):\n",
    "    \n",
    "    sequence_array = np.array(list(sequence)).reshape(-1, 1)  # Convert sequence into column format\n",
    "    encoded_sequence = encoder.transform(sequence_array)  # Apply OneHotEncoder\n",
    "    return encoded_sequence"
   ]
  },
  {
   "cell_type": "code",
   "execution_count": null,
   "id": "8064a093",
   "metadata": {},
   "outputs": [],
   "source": [
    "# Load dataset (with 'sequence' column)\n",
    "protein_sequences_file = 'Example_Data.csv'  # CSV file path\n",
    "df = pd.read_csv(protein_sequences_file)\n",
    "\n",
    "# Apply one-hot encoding to all sequences\n",
    "encoded_sequences = np.array([one_hot_encode_sequence(seq) for seq in df['sequence_Swapped_50_55']])\n",
    "\n",
    "# Reshape into a 2D array \n",
    "encoded_sequences_flat = encoded_sequences.reshape(encoded_sequences.shape[0], -1)"
   ]
  },
  {
   "cell_type": "code",
   "execution_count": null,
   "id": "cae07603",
   "metadata": {},
   "outputs": [],
   "source": [
    "# Save encoded numpy array as a csv file (while loading the file put header=None) \n",
    "np.savetxt(\"one_hot_encoded.csv\", encoded_sequences_flat, delimiter=\",\")"
   ]
  },
  {
   "cell_type": "code",
   "execution_count": null,
   "id": "7792b418",
   "metadata": {
    "scrolled": false
   },
   "outputs": [],
   "source": [
    "print(encoded_sequences.shape)  # Should be (num_sequences, L, 20)"
   ]
  }
 ],
 "metadata": {
  "kernelspec": {
   "display_name": "plsenv",
   "language": "python",
   "name": "plsenv"
  },
  "language_info": {
   "codemirror_mode": {
    "name": "ipython",
    "version": 3
   },
   "file_extension": ".py",
   "mimetype": "text/x-python",
   "name": "python",
   "nbconvert_exporter": "python",
   "pygments_lexer": "ipython3",
   "version": "3.9.18"
  }
 },
 "nbformat": 4,
 "nbformat_minor": 5
}
