{
 "cells": [
  {
   "attachments": {},
   "cell_type": "markdown",
   "id": "6e22958d",
   "metadata": {},
   "source": [
    "# AAIndex encoding\n",
    "\n",
    "An amino acid index is a database of the numerical representation of different **physicochemical and biological properties** for each of the 20 standard amino acids with upto 566 indices in aaindex1.<br>\n",
    "Reference: Shuichi Kawashima, Minoru Kanehisa, AAindex: Amino Acid index database, Nucleic Acids Research, Volume 28, Issue 1, 1 January 2000, Page 374, https://doi.org/10.1093/nar/28.1.374 <br>\n",
    "Refer to github: [github.com/amckenna41/aaindex](https://github.com/amckenna41/aaindex) <p>\n",
    "\n",
    "The description of all the properties is given on the [AAindex List of Indices](https://www.genome.jp/aaindex/AAindex/list_of_indices) <br>\n",
    "The Python documentation is given here [PyPi aaindex](https://pypi.org/project/aaindex/) <p>\n",
    "To install aaindex: `!pip3 install aaindex --upgrade`\n"
   ]
  },
  {
   "cell_type": "code",
   "execution_count": null,
   "id": "fe731946",
   "metadata": {
    "scrolled": false
   },
   "outputs": [],
   "source": [
    "# Import Dependencies\n",
    "\n",
    "import aaindex\n",
    "from aaindex import aaindex1\n",
    "import pandas as pd\n",
    "import numpy as np\n",
    "from sklearn.decomposition import PCA"
   ]
  },
  {
   "cell_type": "markdown",
   "id": "67d4211f",
   "metadata": {},
   "source": [
    "### Selecting AAindex Properties\n",
    "\n",
    "For our study, 8 properties were chosen, their name and AAindex code is as follows:<br>\n",
    "1. Normalized average hydrophobicity scales ['CIDH920105'](https://www.genome.jp/entry/aaindex:CIDH920105),<br>  \n",
    "2. Hydropathy index ['KYTJ820101'](https://www.genome.jp/entry/aaindex:KYTJ820101),<br> \n",
    "3. Normalized frequency of alpha-helix ['CHOP780201'](https://www.genome.jp/entry/aaindex:CHOP780201),<br>  \n",
    "4. Polarity ['GRAR740102'](https://www.genome.jp/entry/aaindex:GRAR740102),<br> \n",
    "5. Hydrophilicity value ['HOPT810101'](https://www.genome.jp/entry/aaindex:HOPT810101),<br>  \n",
    "6. Isoelectric point ['ZIMJ680104'](https://www.genome.jp/entry/aaindex:ZIMJ680104),<br>  \n",
    "7. Average weighted atomic number ['KARS160118'](https://www.genome.jp/entry/aaindex:KARS160118),<br>  \n",
    "8. Spin-spin coupling constants ['BUNA790103'](https://www.genome.jp/entry/aaindex:BUNA790103)<br>  \n",
    "\n",
    "['CIDH920105', 'KYTJ820101', 'CHOP780201', 'GRAR740102', 'HOPT810101', 'ZIMJ680104', 'KARS160118', 'BUNA790103']"
   ]
  },
  {
   "cell_type": "code",
   "execution_count": null,
   "id": "0d7b2687",
   "metadata": {},
   "outputs": [],
   "source": [
    "# Load dataset (with 'sequence' column)\n",
    "protein_sequences_file = 'Example_Data.csv'  # CSV file path\n",
    "df = pd.read_csv(protein_sequences_file)\n",
    "\n",
    "# Save sequences as a list\n",
    "sequences = df['sequence'].tolist()"
   ]
  },
  {
   "cell_type": "code",
   "execution_count": null,
   "id": "8f30e8a3",
   "metadata": {
    "scrolled": true
   },
   "outputs": [],
   "source": [
    "# Define the selected aaindex properties\n",
    "selected_properties = ['CIDH920105', 'KYTJ820101', 'CHOP780201', 'GRAR740102', 'HOPT810101', 'ZIMJ680104', 'KARS160118', 'BUNA790103'] \n",
    "\n",
    "# Extract the selected properties from AAindex1\n",
    "aa_properties = {}\n",
    "for prop in selected_properties:\n",
    "    if prop in aaindex1.record_codes():\n",
    "        aa_properties[prop] = aaindex1[prop].values\n",
    "\n",
    "# Generate feature vectors for each protein sequence\n",
    "encoded_features = []\n",
    "for sequence in sequences:\n",
    "    sequence_features = []\n",
    "    for prop, prop_values in aa_properties.items():\n",
    "        prop_vector = [prop_values.get(aa, 0) for aa in sequence]\n",
    "        sequence_features.append((prop_vector))  \n",
    "    encoded_features.append(sequence_features)"
   ]
  },
  {
   "cell_type": "code",
   "execution_count": null,
   "id": "4a9efd7c",
   "metadata": {},
   "outputs": [],
   "source": [
    "# Save features in a dataframe\n",
    "feature_columns = [f\"{prop}\" for prop in aa_properties.keys()]\n",
    "encoded_df = pd.DataFrame(encoded_features, columns=feature_columns)"
   ]
  },
  {
   "cell_type": "code",
   "execution_count": null,
   "id": "eb3b9da6",
   "metadata": {},
   "outputs": [],
   "source": [
    "# To combine all properties in an array\n",
    "\n",
    "# First, convert the string lists to real lists\n",
    "for col in [\"CIDH920105\", \"KYTJ820101\", \"CHOP780201\", \"GRAR740102\", \n",
    "            \"HOPT810101\", \"ZIMJ680104\",\"KARS160118\",\"BUNA790103\"]:\n",
    "    encoded_df[col] = encoded_df[col].apply(ast.literal_eval)\n",
    "\n",
    "# Now each cell in these columns is a real Python list, not a string!\n",
    "\n",
    "# Next, flatten the lists row-wise\n",
    "encoded_df['encoded_combined'] = df.apply(lambda row: np.concatenate([row[col] for col in [\n",
    "    \"CIDH920105\", \"KYTJ820101\", \"CHOP780201\", \"GRAR740102\", \n",
    "    \"HOPT810101\", \"ZIMJ680104\",\"KARS160118\",\"BUNA790103\"\n",
    "]]), axis=1)"
   ]
  },
  {
   "cell_type": "code",
   "execution_count": null,
   "id": "16f967c7",
   "metadata": {
    "scrolled": true
   },
   "outputs": [],
   "source": [
    "# To save encoded data in the same file\n",
    "df_merged = pd.concat([df, encoded_df], axis=1, ignore_index=False, sort=False)\n",
    "df_merged.to_csv(\"Example_Data_AAindex_encoded.csv\", index=False)\n",
    "\n",
    "'''\n",
    "# To save encoded data in a separate file\n",
    "encoded_df.to_csv(\"AAindex_encoded.csv\", index=False)\n",
    "'''"
   ]
  }
 ],
 "metadata": {
  "kernelspec": {
   "display_name": "Python 3 (ipykernel)",
   "language": "python",
   "name": "python3"
  },
  "language_info": {
   "codemirror_mode": {
    "name": "ipython",
    "version": 3
   },
   "file_extension": ".py",
   "mimetype": "text/x-python",
   "name": "python",
   "nbconvert_exporter": "python",
   "pygments_lexer": "ipython3",
   "version": "3.9.13"
  }
 },
 "nbformat": 4,
 "nbformat_minor": 5
}
